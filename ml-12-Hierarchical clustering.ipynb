{
 "cells": [
  {
   "cell_type": "code",
   "execution_count": 19,
   "id": "ada4faa3",
   "metadata": {},
   "outputs": [],
   "source": [
    "import pandas as pd\n",
    "import matplotlib.pyplot as plt\n",
    "import seaborn as sns\n",
    "import scipy.cluster.hierarchy as shc"
   ]
  },
  {
   "cell_type": "code",
   "execution_count": 2,
   "id": "155b2f29",
   "metadata": {
    "scrolled": true
   },
   "outputs": [
    {
     "data": {
      "text/html": [
       "<div>\n",
       "<style scoped>\n",
       "    .dataframe tbody tr th:only-of-type {\n",
       "        vertical-align: middle;\n",
       "    }\n",
       "\n",
       "    .dataframe tbody tr th {\n",
       "        vertical-align: top;\n",
       "    }\n",
       "\n",
       "    .dataframe thead th {\n",
       "        text-align: right;\n",
       "    }\n",
       "</style>\n",
       "<table border=\"1\" class=\"dataframe\">\n",
       "  <thead>\n",
       "    <tr style=\"text-align: right;\">\n",
       "      <th></th>\n",
       "      <th>Channel</th>\n",
       "      <th>Region</th>\n",
       "      <th>Fresh</th>\n",
       "      <th>Milk</th>\n",
       "      <th>Grocery</th>\n",
       "      <th>Frozen</th>\n",
       "      <th>Detergents_Paper</th>\n",
       "      <th>Delicassen</th>\n",
       "    </tr>\n",
       "  </thead>\n",
       "  <tbody>\n",
       "    <tr>\n",
       "      <th>0</th>\n",
       "      <td>2</td>\n",
       "      <td>3</td>\n",
       "      <td>12669</td>\n",
       "      <td>9656</td>\n",
       "      <td>7561</td>\n",
       "      <td>214</td>\n",
       "      <td>2674</td>\n",
       "      <td>1338</td>\n",
       "    </tr>\n",
       "    <tr>\n",
       "      <th>1</th>\n",
       "      <td>2</td>\n",
       "      <td>3</td>\n",
       "      <td>7057</td>\n",
       "      <td>9810</td>\n",
       "      <td>9568</td>\n",
       "      <td>1762</td>\n",
       "      <td>3293</td>\n",
       "      <td>1776</td>\n",
       "    </tr>\n",
       "    <tr>\n",
       "      <th>2</th>\n",
       "      <td>2</td>\n",
       "      <td>3</td>\n",
       "      <td>6353</td>\n",
       "      <td>8808</td>\n",
       "      <td>7684</td>\n",
       "      <td>2405</td>\n",
       "      <td>3516</td>\n",
       "      <td>7844</td>\n",
       "    </tr>\n",
       "    <tr>\n",
       "      <th>3</th>\n",
       "      <td>1</td>\n",
       "      <td>3</td>\n",
       "      <td>13265</td>\n",
       "      <td>1196</td>\n",
       "      <td>4221</td>\n",
       "      <td>6404</td>\n",
       "      <td>507</td>\n",
       "      <td>1788</td>\n",
       "    </tr>\n",
       "    <tr>\n",
       "      <th>4</th>\n",
       "      <td>2</td>\n",
       "      <td>3</td>\n",
       "      <td>22615</td>\n",
       "      <td>5410</td>\n",
       "      <td>7198</td>\n",
       "      <td>3915</td>\n",
       "      <td>1777</td>\n",
       "      <td>5185</td>\n",
       "    </tr>\n",
       "    <tr>\n",
       "      <th>...</th>\n",
       "      <td>...</td>\n",
       "      <td>...</td>\n",
       "      <td>...</td>\n",
       "      <td>...</td>\n",
       "      <td>...</td>\n",
       "      <td>...</td>\n",
       "      <td>...</td>\n",
       "      <td>...</td>\n",
       "    </tr>\n",
       "    <tr>\n",
       "      <th>435</th>\n",
       "      <td>1</td>\n",
       "      <td>3</td>\n",
       "      <td>29703</td>\n",
       "      <td>12051</td>\n",
       "      <td>16027</td>\n",
       "      <td>13135</td>\n",
       "      <td>182</td>\n",
       "      <td>2204</td>\n",
       "    </tr>\n",
       "    <tr>\n",
       "      <th>436</th>\n",
       "      <td>1</td>\n",
       "      <td>3</td>\n",
       "      <td>39228</td>\n",
       "      <td>1431</td>\n",
       "      <td>764</td>\n",
       "      <td>4510</td>\n",
       "      <td>93</td>\n",
       "      <td>2346</td>\n",
       "    </tr>\n",
       "    <tr>\n",
       "      <th>437</th>\n",
       "      <td>2</td>\n",
       "      <td>3</td>\n",
       "      <td>14531</td>\n",
       "      <td>15488</td>\n",
       "      <td>30243</td>\n",
       "      <td>437</td>\n",
       "      <td>14841</td>\n",
       "      <td>1867</td>\n",
       "    </tr>\n",
       "    <tr>\n",
       "      <th>438</th>\n",
       "      <td>1</td>\n",
       "      <td>3</td>\n",
       "      <td>10290</td>\n",
       "      <td>1981</td>\n",
       "      <td>2232</td>\n",
       "      <td>1038</td>\n",
       "      <td>168</td>\n",
       "      <td>2125</td>\n",
       "    </tr>\n",
       "    <tr>\n",
       "      <th>439</th>\n",
       "      <td>1</td>\n",
       "      <td>3</td>\n",
       "      <td>2787</td>\n",
       "      <td>1698</td>\n",
       "      <td>2510</td>\n",
       "      <td>65</td>\n",
       "      <td>477</td>\n",
       "      <td>52</td>\n",
       "    </tr>\n",
       "  </tbody>\n",
       "</table>\n",
       "<p>440 rows × 8 columns</p>\n",
       "</div>"
      ],
      "text/plain": [
       "     Channel  Region  Fresh   Milk  Grocery  Frozen  Detergents_Paper  \\\n",
       "0          2       3  12669   9656     7561     214              2674   \n",
       "1          2       3   7057   9810     9568    1762              3293   \n",
       "2          2       3   6353   8808     7684    2405              3516   \n",
       "3          1       3  13265   1196     4221    6404               507   \n",
       "4          2       3  22615   5410     7198    3915              1777   \n",
       "..       ...     ...    ...    ...      ...     ...               ...   \n",
       "435        1       3  29703  12051    16027   13135               182   \n",
       "436        1       3  39228   1431      764    4510                93   \n",
       "437        2       3  14531  15488    30243     437             14841   \n",
       "438        1       3  10290   1981     2232    1038               168   \n",
       "439        1       3   2787   1698     2510      65               477   \n",
       "\n",
       "     Delicassen  \n",
       "0          1338  \n",
       "1          1776  \n",
       "2          7844  \n",
       "3          1788  \n",
       "4          5185  \n",
       "..          ...  \n",
       "435        2204  \n",
       "436        2346  \n",
       "437        1867  \n",
       "438        2125  \n",
       "439          52  \n",
       "\n",
       "[440 rows x 8 columns]"
      ]
     },
     "execution_count": 2,
     "metadata": {},
     "output_type": "execute_result"
    }
   ],
   "source": [
    "#to cluster the data for categorize the custemur\n",
    "df=pd.read_csv(\"Wholesale customers data.csv\")\n",
    "df"
   ]
  },
  {
   "cell_type": "code",
   "execution_count": 3,
   "id": "db7fc2a3",
   "metadata": {
    "scrolled": true
   },
   "outputs": [
    {
     "name": "stdout",
     "output_type": "stream",
     "text": [
      "<class 'pandas.core.frame.DataFrame'>\n",
      "RangeIndex: 440 entries, 0 to 439\n",
      "Data columns (total 8 columns):\n",
      " #   Column            Non-Null Count  Dtype\n",
      "---  ------            --------------  -----\n",
      " 0   Channel           440 non-null    int64\n",
      " 1   Region            440 non-null    int64\n",
      " 2   Fresh             440 non-null    int64\n",
      " 3   Milk              440 non-null    int64\n",
      " 4   Grocery           440 non-null    int64\n",
      " 5   Frozen            440 non-null    int64\n",
      " 6   Detergents_Paper  440 non-null    int64\n",
      " 7   Delicassen        440 non-null    int64\n",
      "dtypes: int64(8)\n",
      "memory usage: 27.6 KB\n"
     ]
    }
   ],
   "source": [
    "df.info()"
   ]
  },
  {
   "cell_type": "code",
   "execution_count": 5,
   "id": "12e35fb4",
   "metadata": {},
   "outputs": [
    {
     "data": {
      "text/html": [
       "<div>\n",
       "<style scoped>\n",
       "    .dataframe tbody tr th:only-of-type {\n",
       "        vertical-align: middle;\n",
       "    }\n",
       "\n",
       "    .dataframe tbody tr th {\n",
       "        vertical-align: top;\n",
       "    }\n",
       "\n",
       "    .dataframe thead th {\n",
       "        text-align: right;\n",
       "    }\n",
       "</style>\n",
       "<table border=\"1\" class=\"dataframe\">\n",
       "  <thead>\n",
       "    <tr style=\"text-align: right;\">\n",
       "      <th></th>\n",
       "      <th>count</th>\n",
       "      <th>mean</th>\n",
       "      <th>std</th>\n",
       "      <th>min</th>\n",
       "      <th>25%</th>\n",
       "      <th>50%</th>\n",
       "      <th>75%</th>\n",
       "      <th>max</th>\n",
       "    </tr>\n",
       "  </thead>\n",
       "  <tbody>\n",
       "    <tr>\n",
       "      <th>Channel</th>\n",
       "      <td>440.0</td>\n",
       "      <td>1.322727</td>\n",
       "      <td>0.468052</td>\n",
       "      <td>1.0</td>\n",
       "      <td>1.00</td>\n",
       "      <td>1.0</td>\n",
       "      <td>2.00</td>\n",
       "      <td>2.0</td>\n",
       "    </tr>\n",
       "    <tr>\n",
       "      <th>Region</th>\n",
       "      <td>440.0</td>\n",
       "      <td>2.543182</td>\n",
       "      <td>0.774272</td>\n",
       "      <td>1.0</td>\n",
       "      <td>2.00</td>\n",
       "      <td>3.0</td>\n",
       "      <td>3.00</td>\n",
       "      <td>3.0</td>\n",
       "    </tr>\n",
       "    <tr>\n",
       "      <th>Fresh</th>\n",
       "      <td>440.0</td>\n",
       "      <td>12000.297727</td>\n",
       "      <td>12647.328865</td>\n",
       "      <td>3.0</td>\n",
       "      <td>3127.75</td>\n",
       "      <td>8504.0</td>\n",
       "      <td>16933.75</td>\n",
       "      <td>112151.0</td>\n",
       "    </tr>\n",
       "    <tr>\n",
       "      <th>Milk</th>\n",
       "      <td>440.0</td>\n",
       "      <td>5796.265909</td>\n",
       "      <td>7380.377175</td>\n",
       "      <td>55.0</td>\n",
       "      <td>1533.00</td>\n",
       "      <td>3627.0</td>\n",
       "      <td>7190.25</td>\n",
       "      <td>73498.0</td>\n",
       "    </tr>\n",
       "    <tr>\n",
       "      <th>Grocery</th>\n",
       "      <td>440.0</td>\n",
       "      <td>7951.277273</td>\n",
       "      <td>9503.162829</td>\n",
       "      <td>3.0</td>\n",
       "      <td>2153.00</td>\n",
       "      <td>4755.5</td>\n",
       "      <td>10655.75</td>\n",
       "      <td>92780.0</td>\n",
       "    </tr>\n",
       "    <tr>\n",
       "      <th>Frozen</th>\n",
       "      <td>440.0</td>\n",
       "      <td>3071.931818</td>\n",
       "      <td>4854.673333</td>\n",
       "      <td>25.0</td>\n",
       "      <td>742.25</td>\n",
       "      <td>1526.0</td>\n",
       "      <td>3554.25</td>\n",
       "      <td>60869.0</td>\n",
       "    </tr>\n",
       "    <tr>\n",
       "      <th>Detergents_Paper</th>\n",
       "      <td>440.0</td>\n",
       "      <td>2881.493182</td>\n",
       "      <td>4767.854448</td>\n",
       "      <td>3.0</td>\n",
       "      <td>256.75</td>\n",
       "      <td>816.5</td>\n",
       "      <td>3922.00</td>\n",
       "      <td>40827.0</td>\n",
       "    </tr>\n",
       "    <tr>\n",
       "      <th>Delicassen</th>\n",
       "      <td>440.0</td>\n",
       "      <td>1524.870455</td>\n",
       "      <td>2820.105937</td>\n",
       "      <td>3.0</td>\n",
       "      <td>408.25</td>\n",
       "      <td>965.5</td>\n",
       "      <td>1820.25</td>\n",
       "      <td>47943.0</td>\n",
       "    </tr>\n",
       "  </tbody>\n",
       "</table>\n",
       "</div>"
      ],
      "text/plain": [
       "                  count          mean           std   min      25%     50%  \\\n",
       "Channel           440.0      1.322727      0.468052   1.0     1.00     1.0   \n",
       "Region            440.0      2.543182      0.774272   1.0     2.00     3.0   \n",
       "Fresh             440.0  12000.297727  12647.328865   3.0  3127.75  8504.0   \n",
       "Milk              440.0   5796.265909   7380.377175  55.0  1533.00  3627.0   \n",
       "Grocery           440.0   7951.277273   9503.162829   3.0  2153.00  4755.5   \n",
       "Frozen            440.0   3071.931818   4854.673333  25.0   742.25  1526.0   \n",
       "Detergents_Paper  440.0   2881.493182   4767.854448   3.0   256.75   816.5   \n",
       "Delicassen        440.0   1524.870455   2820.105937   3.0   408.25   965.5   \n",
       "\n",
       "                       75%       max  \n",
       "Channel               2.00       2.0  \n",
       "Region                3.00       3.0  \n",
       "Fresh             16933.75  112151.0  \n",
       "Milk               7190.25   73498.0  \n",
       "Grocery           10655.75   92780.0  \n",
       "Frozen             3554.25   60869.0  \n",
       "Detergents_Paper   3922.00   40827.0  \n",
       "Delicassen         1820.25   47943.0  "
      ]
     },
     "execution_count": 5,
     "metadata": {},
     "output_type": "execute_result"
    }
   ],
   "source": [
    "df.describe().T"
   ]
  },
  {
   "cell_type": "code",
   "execution_count": 6,
   "id": "9586b500",
   "metadata": {},
   "outputs": [
    {
     "data": {
      "text/plain": [
       "1    298\n",
       "2    142\n",
       "Name: Channel, dtype: int64"
      ]
     },
     "execution_count": 6,
     "metadata": {},
     "output_type": "execute_result"
    }
   ],
   "source": [
    "df.Channel.value_counts()"
   ]
  },
  {
   "cell_type": "code",
   "execution_count": 7,
   "id": "442dfa9a",
   "metadata": {},
   "outputs": [
    {
     "data": {
      "text/plain": [
       "3    316\n",
       "1     77\n",
       "2     47\n",
       "Name: Region, dtype: int64"
      ]
     },
     "execution_count": 7,
     "metadata": {},
     "output_type": "execute_result"
    }
   ],
   "source": [
    "df.Region.value_counts()"
   ]
  },
  {
   "cell_type": "code",
   "execution_count": 8,
   "id": "cc555005",
   "metadata": {
    "scrolled": true
   },
   "outputs": [
    {
     "data": {
      "text/plain": [
       "Channel             0\n",
       "Region              0\n",
       "Fresh               0\n",
       "Milk                0\n",
       "Grocery             0\n",
       "Frozen              0\n",
       "Detergents_Paper    0\n",
       "Delicassen          0\n",
       "dtype: int64"
      ]
     },
     "execution_count": 8,
     "metadata": {},
     "output_type": "execute_result"
    }
   ],
   "source": [
    "df.isna().sum()"
   ]
  },
  {
   "cell_type": "code",
   "execution_count": 13,
   "id": "985faed9",
   "metadata": {},
   "outputs": [
    {
     "name": "stderr",
     "output_type": "stream",
     "text": [
      "C:\\Users\\deept\\AppData\\Local\\Temp/ipykernel_20252/3554410781.py:1: FutureWarning: Indexing with multiple keys (implicitly converted to a tuple of keys) will be deprecated, use a list instead.\n",
      "  df1=df.groupby(['Channel','Region'])['Fresh', 'Milk', 'Grocery','Frozen',\n"
     ]
    },
    {
     "data": {
      "text/html": [
       "<div>\n",
       "<style scoped>\n",
       "    .dataframe tbody tr th:only-of-type {\n",
       "        vertical-align: middle;\n",
       "    }\n",
       "\n",
       "    .dataframe tbody tr th {\n",
       "        vertical-align: top;\n",
       "    }\n",
       "\n",
       "    .dataframe thead th {\n",
       "        text-align: right;\n",
       "    }\n",
       "</style>\n",
       "<table border=\"1\" class=\"dataframe\">\n",
       "  <thead>\n",
       "    <tr style=\"text-align: right;\">\n",
       "      <th></th>\n",
       "      <th></th>\n",
       "      <th>Fresh</th>\n",
       "      <th>Milk</th>\n",
       "      <th>Grocery</th>\n",
       "      <th>Frozen</th>\n",
       "      <th>Detergents_Paper</th>\n",
       "      <th>Delicassen</th>\n",
       "    </tr>\n",
       "    <tr>\n",
       "      <th>Channel</th>\n",
       "      <th>Region</th>\n",
       "      <th></th>\n",
       "      <th></th>\n",
       "      <th></th>\n",
       "      <th></th>\n",
       "      <th></th>\n",
       "      <th></th>\n",
       "    </tr>\n",
       "  </thead>\n",
       "  <tbody>\n",
       "    <tr>\n",
       "      <th rowspan=\"3\" valign=\"top\">1</th>\n",
       "      <th>1</th>\n",
       "      <td>761233</td>\n",
       "      <td>228342</td>\n",
       "      <td>237542</td>\n",
       "      <td>184512</td>\n",
       "      <td>56081</td>\n",
       "      <td>70632</td>\n",
       "    </tr>\n",
       "    <tr>\n",
       "      <th>2</th>\n",
       "      <td>326215</td>\n",
       "      <td>64519</td>\n",
       "      <td>123074</td>\n",
       "      <td>160861</td>\n",
       "      <td>13516</td>\n",
       "      <td>30965</td>\n",
       "    </tr>\n",
       "    <tr>\n",
       "      <th>3</th>\n",
       "      <td>2928269</td>\n",
       "      <td>735753</td>\n",
       "      <td>820101</td>\n",
       "      <td>771606</td>\n",
       "      <td>165990</td>\n",
       "      <td>320358</td>\n",
       "    </tr>\n",
       "    <tr>\n",
       "      <th rowspan=\"3\" valign=\"top\">2</th>\n",
       "      <th>1</th>\n",
       "      <td>93600</td>\n",
       "      <td>194112</td>\n",
       "      <td>332495</td>\n",
       "      <td>46514</td>\n",
       "      <td>148055</td>\n",
       "      <td>33695</td>\n",
       "    </tr>\n",
       "    <tr>\n",
       "      <th>2</th>\n",
       "      <td>138506</td>\n",
       "      <td>174625</td>\n",
       "      <td>310200</td>\n",
       "      <td>29271</td>\n",
       "      <td>159795</td>\n",
       "      <td>23541</td>\n",
       "    </tr>\n",
       "    <tr>\n",
       "      <th>3</th>\n",
       "      <td>1032308</td>\n",
       "      <td>1153006</td>\n",
       "      <td>1675150</td>\n",
       "      <td>158886</td>\n",
       "      <td>724420</td>\n",
       "      <td>191752</td>\n",
       "    </tr>\n",
       "  </tbody>\n",
       "</table>\n",
       "</div>"
      ],
      "text/plain": [
       "                  Fresh     Milk  Grocery  Frozen  Detergents_Paper  \\\n",
       "Channel Region                                                        \n",
       "1       1        761233   228342   237542  184512             56081   \n",
       "        2        326215    64519   123074  160861             13516   \n",
       "        3       2928269   735753   820101  771606            165990   \n",
       "2       1         93600   194112   332495   46514            148055   \n",
       "        2        138506   174625   310200   29271            159795   \n",
       "        3       1032308  1153006  1675150  158886            724420   \n",
       "\n",
       "                Delicassen  \n",
       "Channel Region              \n",
       "1       1            70632  \n",
       "        2            30965  \n",
       "        3           320358  \n",
       "2       1            33695  \n",
       "        2            23541  \n",
       "        3           191752  "
      ]
     },
     "execution_count": 13,
     "metadata": {},
     "output_type": "execute_result"
    }
   ],
   "source": [
    "df1=df.groupby(['Channel','Region'])['Fresh', 'Milk', 'Grocery','Frozen',\n",
    "                                     'Detergents_Paper', 'Delicassen'].sum()\n",
    "# y=df1.get_group((1,3))\n",
    "df1"
   ]
  },
  {
   "cell_type": "code",
   "execution_count": 14,
   "id": "2bb12a8f",
   "metadata": {},
   "outputs": [
    {
     "data": {
      "text/html": [
       "<div>\n",
       "<style scoped>\n",
       "    .dataframe tbody tr th:only-of-type {\n",
       "        vertical-align: middle;\n",
       "    }\n",
       "\n",
       "    .dataframe tbody tr th {\n",
       "        vertical-align: top;\n",
       "    }\n",
       "\n",
       "    .dataframe thead th {\n",
       "        text-align: right;\n",
       "    }\n",
       "</style>\n",
       "<table border=\"1\" class=\"dataframe\">\n",
       "  <thead>\n",
       "    <tr style=\"text-align: right;\">\n",
       "      <th></th>\n",
       "      <th>Channel</th>\n",
       "      <th>Region</th>\n",
       "      <th>Fresh</th>\n",
       "      <th>Milk</th>\n",
       "      <th>Grocery</th>\n",
       "      <th>Frozen</th>\n",
       "      <th>Detergents_Paper</th>\n",
       "      <th>Delicassen</th>\n",
       "    </tr>\n",
       "  </thead>\n",
       "  <tbody>\n",
       "    <tr>\n",
       "      <th>0</th>\n",
       "      <td>1</td>\n",
       "      <td>1</td>\n",
       "      <td>761233</td>\n",
       "      <td>228342</td>\n",
       "      <td>237542</td>\n",
       "      <td>184512</td>\n",
       "      <td>56081</td>\n",
       "      <td>70632</td>\n",
       "    </tr>\n",
       "    <tr>\n",
       "      <th>1</th>\n",
       "      <td>1</td>\n",
       "      <td>2</td>\n",
       "      <td>326215</td>\n",
       "      <td>64519</td>\n",
       "      <td>123074</td>\n",
       "      <td>160861</td>\n",
       "      <td>13516</td>\n",
       "      <td>30965</td>\n",
       "    </tr>\n",
       "    <tr>\n",
       "      <th>2</th>\n",
       "      <td>1</td>\n",
       "      <td>3</td>\n",
       "      <td>2928269</td>\n",
       "      <td>735753</td>\n",
       "      <td>820101</td>\n",
       "      <td>771606</td>\n",
       "      <td>165990</td>\n",
       "      <td>320358</td>\n",
       "    </tr>\n",
       "    <tr>\n",
       "      <th>3</th>\n",
       "      <td>2</td>\n",
       "      <td>1</td>\n",
       "      <td>93600</td>\n",
       "      <td>194112</td>\n",
       "      <td>332495</td>\n",
       "      <td>46514</td>\n",
       "      <td>148055</td>\n",
       "      <td>33695</td>\n",
       "    </tr>\n",
       "    <tr>\n",
       "      <th>4</th>\n",
       "      <td>2</td>\n",
       "      <td>2</td>\n",
       "      <td>138506</td>\n",
       "      <td>174625</td>\n",
       "      <td>310200</td>\n",
       "      <td>29271</td>\n",
       "      <td>159795</td>\n",
       "      <td>23541</td>\n",
       "    </tr>\n",
       "    <tr>\n",
       "      <th>5</th>\n",
       "      <td>2</td>\n",
       "      <td>3</td>\n",
       "      <td>1032308</td>\n",
       "      <td>1153006</td>\n",
       "      <td>1675150</td>\n",
       "      <td>158886</td>\n",
       "      <td>724420</td>\n",
       "      <td>191752</td>\n",
       "    </tr>\n",
       "  </tbody>\n",
       "</table>\n",
       "</div>"
      ],
      "text/plain": [
       "   Channel  Region    Fresh     Milk  Grocery  Frozen  Detergents_Paper  \\\n",
       "0        1       1   761233   228342   237542  184512             56081   \n",
       "1        1       2   326215    64519   123074  160861             13516   \n",
       "2        1       3  2928269   735753   820101  771606            165990   \n",
       "3        2       1    93600   194112   332495   46514            148055   \n",
       "4        2       2   138506   174625   310200   29271            159795   \n",
       "5        2       3  1032308  1153006  1675150  158886            724420   \n",
       "\n",
       "   Delicassen  \n",
       "0       70632  \n",
       "1       30965  \n",
       "2      320358  \n",
       "3       33695  \n",
       "4       23541  \n",
       "5      191752  "
      ]
     },
     "execution_count": 14,
     "metadata": {},
     "output_type": "execute_result"
    }
   ],
   "source": [
    "df1=df1.reset_index()\n",
    "df1"
   ]
  },
  {
   "cell_type": "code",
   "execution_count": 17,
   "id": "a0b47405",
   "metadata": {},
   "outputs": [
    {
     "data": {
      "text/html": [
       "<div>\n",
       "<style scoped>\n",
       "    .dataframe tbody tr th:only-of-type {\n",
       "        vertical-align: middle;\n",
       "    }\n",
       "\n",
       "    .dataframe tbody tr th {\n",
       "        vertical-align: top;\n",
       "    }\n",
       "\n",
       "    .dataframe thead th {\n",
       "        text-align: right;\n",
       "    }\n",
       "</style>\n",
       "<table border=\"1\" class=\"dataframe\">\n",
       "  <thead>\n",
       "    <tr style=\"text-align: right;\">\n",
       "      <th></th>\n",
       "      <th>Channel</th>\n",
       "      <th>Region</th>\n",
       "      <th>Fresh</th>\n",
       "      <th>Milk</th>\n",
       "      <th>Grocery</th>\n",
       "      <th>Frozen</th>\n",
       "      <th>Detergents_Paper</th>\n",
       "      <th>Delicassen</th>\n",
       "      <th>Total</th>\n",
       "    </tr>\n",
       "  </thead>\n",
       "  <tbody>\n",
       "    <tr>\n",
       "      <th>0</th>\n",
       "      <td>1</td>\n",
       "      <td>1</td>\n",
       "      <td>761233</td>\n",
       "      <td>228342</td>\n",
       "      <td>237542</td>\n",
       "      <td>184512</td>\n",
       "      <td>56081</td>\n",
       "      <td>70632</td>\n",
       "      <td>34112</td>\n",
       "    </tr>\n",
       "    <tr>\n",
       "      <th>1</th>\n",
       "      <td>1</td>\n",
       "      <td>2</td>\n",
       "      <td>326215</td>\n",
       "      <td>64519</td>\n",
       "      <td>123074</td>\n",
       "      <td>160861</td>\n",
       "      <td>13516</td>\n",
       "      <td>30965</td>\n",
       "      <td>33266</td>\n",
       "    </tr>\n",
       "    <tr>\n",
       "      <th>2</th>\n",
       "      <td>1</td>\n",
       "      <td>3</td>\n",
       "      <td>2928269</td>\n",
       "      <td>735753</td>\n",
       "      <td>820101</td>\n",
       "      <td>771606</td>\n",
       "      <td>165990</td>\n",
       "      <td>320358</td>\n",
       "      <td>36610</td>\n",
       "    </tr>\n",
       "    <tr>\n",
       "      <th>3</th>\n",
       "      <td>2</td>\n",
       "      <td>1</td>\n",
       "      <td>93600</td>\n",
       "      <td>194112</td>\n",
       "      <td>332495</td>\n",
       "      <td>46514</td>\n",
       "      <td>148055</td>\n",
       "      <td>33695</td>\n",
       "      <td>27381</td>\n",
       "    </tr>\n",
       "    <tr>\n",
       "      <th>4</th>\n",
       "      <td>2</td>\n",
       "      <td>2</td>\n",
       "      <td>138506</td>\n",
       "      <td>174625</td>\n",
       "      <td>310200</td>\n",
       "      <td>29271</td>\n",
       "      <td>159795</td>\n",
       "      <td>23541</td>\n",
       "      <td>46100</td>\n",
       "    </tr>\n",
       "    <tr>\n",
       "      <th>5</th>\n",
       "      <td>2</td>\n",
       "      <td>3</td>\n",
       "      <td>1032308</td>\n",
       "      <td>1153006</td>\n",
       "      <td>1675150</td>\n",
       "      <td>158886</td>\n",
       "      <td>724420</td>\n",
       "      <td>191752</td>\n",
       "      <td>26710</td>\n",
       "    </tr>\n",
       "  </tbody>\n",
       "</table>\n",
       "</div>"
      ],
      "text/plain": [
       "   Channel  Region    Fresh     Milk  Grocery  Frozen  Detergents_Paper  \\\n",
       "0        1       1   761233   228342   237542  184512             56081   \n",
       "1        1       2   326215    64519   123074  160861             13516   \n",
       "2        1       3  2928269   735753   820101  771606            165990   \n",
       "3        2       1    93600   194112   332495   46514            148055   \n",
       "4        2       2   138506   174625   310200   29271            159795   \n",
       "5        2       3  1032308  1153006  1675150  158886            724420   \n",
       "\n",
       "   Delicassen  Total  \n",
       "0       70632  34112  \n",
       "1       30965  33266  \n",
       "2      320358  36610  \n",
       "3       33695  27381  \n",
       "4       23541  46100  \n",
       "5      191752  26710  "
      ]
     },
     "execution_count": 17,
     "metadata": {},
     "output_type": "execute_result"
    }
   ],
   "source": [
    "\n",
    "df1['Total']=df['Fresh']+ df['Milk']+ df['Grocery']+df['Frozen']+df['Detergents_Paper']+df['Delicassen']\n",
    "df1"
   ]
  },
  {
   "cell_type": "code",
   "execution_count": 20,
   "id": "541ea445",
   "metadata": {},
   "outputs": [
    {
     "data": {
      "text/plain": [
       "Text(0.5, 1.0, 'Spend on Channel vs Region')"
      ]
     },
     "execution_count": 20,
     "metadata": {},
     "output_type": "execute_result"
    },
    {
     "data": {
      "image/png": "[encoded data removed]",
      "text/plain": [
       "<Figure size 432x360 with 1 Axes>"
      ]
     },
     "metadata": {
      "needs_background": "light"
     },
     "output_type": "display_data"
    }
   ],
   "source": [
    "plt.figure(figsize=(6,5))\n",
    "sns.barplot(data=df1,x='Region',y='Total',hue='Channel',palette='rocket')\n",
    "plt.title('Spend on Channel vs Region')"
   ]
  },
  {
   "cell_type": "code",
   "execution_count": null,
   "id": "3347d70e",
   "metadata": {},
   "outputs": [],
   "source": [
    "#2nd region on channel 2 spend more\n",
    "#3rd region on channel 2 spend less"
   ]
  },
  {
   "cell_type": "code",
   "execution_count": 21,
   "id": "7fddc4e6",
   "metadata": {},
   "outputs": [
    {
     "data": {
      "text/html": [
       "<div>\n",
       "<style scoped>\n",
       "    .dataframe tbody tr th:only-of-type {\n",
       "        vertical-align: middle;\n",
       "    }\n",
       "\n",
       "    .dataframe tbody tr th {\n",
       "        vertical-align: top;\n",
       "    }\n",
       "\n",
       "    .dataframe thead th {\n",
       "        text-align: right;\n",
       "    }\n",
       "</style>\n",
       "<table border=\"1\" class=\"dataframe\">\n",
       "  <thead>\n",
       "    <tr style=\"text-align: right;\">\n",
       "      <th></th>\n",
       "      <th>Channel</th>\n",
       "      <th>Region</th>\n",
       "      <th>Fresh</th>\n",
       "      <th>Milk</th>\n",
       "      <th>Grocery</th>\n",
       "      <th>Frozen</th>\n",
       "      <th>Detergents_Paper</th>\n",
       "      <th>Delicassen</th>\n",
       "      <th>Total</th>\n",
       "    </tr>\n",
       "  </thead>\n",
       "  <tbody>\n",
       "    <tr>\n",
       "      <th>0</th>\n",
       "      <td>2</td>\n",
       "      <td>3</td>\n",
       "      <td>12669</td>\n",
       "      <td>9656</td>\n",
       "      <td>7561</td>\n",
       "      <td>214</td>\n",
       "      <td>2674</td>\n",
       "      <td>1338</td>\n",
       "      <td>30100</td>\n",
       "    </tr>\n",
       "    <tr>\n",
       "      <th>1</th>\n",
       "      <td>2</td>\n",
       "      <td>3</td>\n",
       "      <td>7057</td>\n",
       "      <td>9810</td>\n",
       "      <td>9568</td>\n",
       "      <td>1762</td>\n",
       "      <td>3293</td>\n",
       "      <td>1776</td>\n",
       "      <td>28197</td>\n",
       "    </tr>\n",
       "    <tr>\n",
       "      <th>2</th>\n",
       "      <td>2</td>\n",
       "      <td>3</td>\n",
       "      <td>6353</td>\n",
       "      <td>8808</td>\n",
       "      <td>7684</td>\n",
       "      <td>2405</td>\n",
       "      <td>3516</td>\n",
       "      <td>7844</td>\n",
       "      <td>25250</td>\n",
       "    </tr>\n",
       "    <tr>\n",
       "      <th>3</th>\n",
       "      <td>1</td>\n",
       "      <td>3</td>\n",
       "      <td>13265</td>\n",
       "      <td>1196</td>\n",
       "      <td>4221</td>\n",
       "      <td>6404</td>\n",
       "      <td>507</td>\n",
       "      <td>1788</td>\n",
       "      <td>25086</td>\n",
       "    </tr>\n",
       "    <tr>\n",
       "      <th>4</th>\n",
       "      <td>2</td>\n",
       "      <td>3</td>\n",
       "      <td>22615</td>\n",
       "      <td>5410</td>\n",
       "      <td>7198</td>\n",
       "      <td>3915</td>\n",
       "      <td>1777</td>\n",
       "      <td>5185</td>\n",
       "      <td>39138</td>\n",
       "    </tr>\n",
       "  </tbody>\n",
       "</table>\n",
       "</div>"
      ],
      "text/plain": [
       "   Channel  Region  Fresh  Milk  Grocery  Frozen  Detergents_Paper  \\\n",
       "0        2       3  12669  9656     7561     214              2674   \n",
       "1        2       3   7057  9810     9568    1762              3293   \n",
       "2        2       3   6353  8808     7684    2405              3516   \n",
       "3        1       3  13265  1196     4221    6404               507   \n",
       "4        2       3  22615  5410     7198    3915              1777   \n",
       "\n",
       "   Delicassen  Total  \n",
       "0        1338  30100  \n",
       "1        1776  28197  \n",
       "2        7844  25250  \n",
       "3        1788  25086  \n",
       "4        5185  39138  "
      ]
     },
     "execution_count": 21,
     "metadata": {},
     "output_type": "execute_result"
    }
   ],
   "source": [
    "df['Total']=df['Fresh']+ df['Milk']+ df['Grocery']+df['Frozen']\n",
    "+df['Detergents_Paper']+df['Delicassen']\n",
    "df.head()"
   ]
  },
  {
   "cell_type": "code",
   "execution_count": 22,
   "id": "39fd8d33",
   "metadata": {},
   "outputs": [
    {
     "data": {
      "image/png": "[encoded data removed]",
      "text/plain": [
       "<Figure size 360x360 with 1 Axes>"
      ]
     },
     "metadata": {
      "needs_background": "light"
     },
     "output_type": "display_data"
    }
   ],
   "source": [
    "plt.figure(figsize=(5,5))\n",
    "plt.title('Cumulative Spend')\n",
    "g=sns.barplot(x='Region',y='Total',hue='Channel',data=df)\n"
   ]
  },
  {
   "cell_type": "code",
   "execution_count": 24,
   "id": "281aa6ff",
   "metadata": {},
   "outputs": [
    {
     "data": {
      "text/html": [
       "<div>\n",
       "<style scoped>\n",
       "    .dataframe tbody tr th:only-of-type {\n",
       "        vertical-align: middle;\n",
       "    }\n",
       "\n",
       "    .dataframe tbody tr th {\n",
       "        vertical-align: top;\n",
       "    }\n",
       "\n",
       "    .dataframe thead tr th {\n",
       "        text-align: left;\n",
       "    }\n",
       "</style>\n",
       "<table border=\"1\" class=\"dataframe\">\n",
       "  <thead>\n",
       "    <tr>\n",
       "      <th></th>\n",
       "      <th>Channel</th>\n",
       "      <th colspan=\"3\" halign=\"left\">1</th>\n",
       "      <th colspan=\"3\" halign=\"left\">2</th>\n",
       "    </tr>\n",
       "    <tr>\n",
       "      <th></th>\n",
       "      <th>Region</th>\n",
       "      <th>1</th>\n",
       "      <th>2</th>\n",
       "      <th>3</th>\n",
       "      <th>1</th>\n",
       "      <th>2</th>\n",
       "      <th>3</th>\n",
       "    </tr>\n",
       "  </thead>\n",
       "  <tbody>\n",
       "    <tr>\n",
       "      <th rowspan=\"8\" valign=\"top\">Fresh</th>\n",
       "      <th>count</th>\n",
       "      <td>59.000000</td>\n",
       "      <td>28.000000</td>\n",
       "      <td>211.000000</td>\n",
       "      <td>18.000000</td>\n",
       "      <td>19.000000</td>\n",
       "      <td>105.000000</td>\n",
       "    </tr>\n",
       "    <tr>\n",
       "      <th>mean</th>\n",
       "      <td>12902.254237</td>\n",
       "      <td>11650.535714</td>\n",
       "      <td>13878.052133</td>\n",
       "      <td>5200.000000</td>\n",
       "      <td>7289.789474</td>\n",
       "      <td>9831.504762</td>\n",
       "    </tr>\n",
       "    <tr>\n",
       "      <th>std</th>\n",
       "      <td>12342.008901</td>\n",
       "      <td>8969.362752</td>\n",
       "      <td>14746.572913</td>\n",
       "      <td>5415.521495</td>\n",
       "      <td>6867.934548</td>\n",
       "      <td>9635.394129</td>\n",
       "    </tr>\n",
       "    <tr>\n",
       "      <th>min</th>\n",
       "      <td>514.000000</td>\n",
       "      <td>3.000000</td>\n",
       "      <td>3.000000</td>\n",
       "      <td>18.000000</td>\n",
       "      <td>161.000000</td>\n",
       "      <td>23.000000</td>\n",
       "    </tr>\n",
       "    <tr>\n",
       "      <th>25%</th>\n",
       "      <td>4437.500000</td>\n",
       "      <td>4938.250000</td>\n",
       "      <td>3702.500000</td>\n",
       "      <td>2378.250000</td>\n",
       "      <td>2368.000000</td>\n",
       "      <td>2343.000000</td>\n",
       "    </tr>\n",
       "    <tr>\n",
       "      <th>50%</th>\n",
       "      <td>8656.000000</td>\n",
       "      <td>9787.000000</td>\n",
       "      <td>9612.000000</td>\n",
       "      <td>2926.000000</td>\n",
       "      <td>6468.000000</td>\n",
       "      <td>7362.000000</td>\n",
       "    </tr>\n",
       "    <tr>\n",
       "      <th>75%</th>\n",
       "      <td>18135.000000</td>\n",
       "      <td>17031.500000</td>\n",
       "      <td>18821.000000</td>\n",
       "      <td>5988.000000</td>\n",
       "      <td>9162.000000</td>\n",
       "      <td>15076.000000</td>\n",
       "    </tr>\n",
       "    <tr>\n",
       "      <th>max</th>\n",
       "      <td>56083.000000</td>\n",
       "      <td>32717.000000</td>\n",
       "      <td>112151.000000</td>\n",
       "      <td>20782.000000</td>\n",
       "      <td>27082.000000</td>\n",
       "      <td>44466.000000</td>\n",
       "    </tr>\n",
       "    <tr>\n",
       "      <th rowspan=\"8\" valign=\"top\">Milk</th>\n",
       "      <th>count</th>\n",
       "      <td>59.000000</td>\n",
       "      <td>28.000000</td>\n",
       "      <td>211.000000</td>\n",
       "      <td>18.000000</td>\n",
       "      <td>19.000000</td>\n",
       "      <td>105.000000</td>\n",
       "    </tr>\n",
       "    <tr>\n",
       "      <th>mean</th>\n",
       "      <td>3870.203390</td>\n",
       "      <td>2304.250000</td>\n",
       "      <td>3486.981043</td>\n",
       "      <td>10784.000000</td>\n",
       "      <td>9190.789474</td>\n",
       "      <td>10981.009524</td>\n",
       "    </tr>\n",
       "    <tr>\n",
       "      <th>std</th>\n",
       "      <td>4298.321195</td>\n",
       "      <td>2968.628697</td>\n",
       "      <td>4508.505269</td>\n",
       "      <td>6609.221463</td>\n",
       "      <td>6611.354136</td>\n",
       "      <td>10574.827178</td>\n",
       "    </tr>\n",
       "    <tr>\n",
       "      <th>min</th>\n",
       "      <td>258.000000</td>\n",
       "      <td>333.000000</td>\n",
       "      <td>55.000000</td>\n",
       "      <td>2527.000000</td>\n",
       "      <td>928.000000</td>\n",
       "      <td>1124.000000</td>\n",
       "    </tr>\n",
       "    <tr>\n",
       "      <th>25%</th>\n",
       "      <td>1071.000000</td>\n",
       "      <td>1146.000000</td>\n",
       "      <td>1188.500000</td>\n",
       "      <td>6253.250000</td>\n",
       "      <td>4148.500000</td>\n",
       "      <td>6128.000000</td>\n",
       "    </tr>\n",
       "    <tr>\n",
       "      <th>50%</th>\n",
       "      <td>2280.000000</td>\n",
       "      <td>1560.500000</td>\n",
       "      <td>2247.000000</td>\n",
       "      <td>8866.000000</td>\n",
       "      <td>6817.000000</td>\n",
       "      <td>7845.000000</td>\n",
       "    </tr>\n",
       "    <tr>\n",
       "      <th>75%</th>\n",
       "      <td>4995.500000</td>\n",
       "      <td>2344.750000</td>\n",
       "      <td>4205.000000</td>\n",
       "      <td>13112.250000</td>\n",
       "      <td>13127.500000</td>\n",
       "      <td>11114.000000</td>\n",
       "    </tr>\n",
       "    <tr>\n",
       "      <th>max</th>\n",
       "      <td>23527.000000</td>\n",
       "      <td>16784.000000</td>\n",
       "      <td>43950.000000</td>\n",
       "      <td>28326.000000</td>\n",
       "      <td>25071.000000</td>\n",
       "      <td>73498.000000</td>\n",
       "    </tr>\n",
       "    <tr>\n",
       "      <th rowspan=\"8\" valign=\"top\">Grocery</th>\n",
       "      <th>count</th>\n",
       "      <td>59.000000</td>\n",
       "      <td>28.000000</td>\n",
       "      <td>211.000000</td>\n",
       "      <td>18.000000</td>\n",
       "      <td>19.000000</td>\n",
       "      <td>105.000000</td>\n",
       "    </tr>\n",
       "    <tr>\n",
       "      <th>mean</th>\n",
       "      <td>4026.135593</td>\n",
       "      <td>4395.500000</td>\n",
       "      <td>3886.734597</td>\n",
       "      <td>18471.944444</td>\n",
       "      <td>16326.315789</td>\n",
       "      <td>15953.809524</td>\n",
       "    </tr>\n",
       "    <tr>\n",
       "      <th>std</th>\n",
       "      <td>3629.644143</td>\n",
       "      <td>3048.298815</td>\n",
       "      <td>3593.506056</td>\n",
       "      <td>10414.687844</td>\n",
       "      <td>14035.453775</td>\n",
       "      <td>12298.935356</td>\n",
       "    </tr>\n",
       "    <tr>\n",
       "      <th>min</th>\n",
       "      <td>489.000000</td>\n",
       "      <td>1330.000000</td>\n",
       "      <td>3.000000</td>\n",
       "      <td>5265.000000</td>\n",
       "      <td>2743.000000</td>\n",
       "      <td>4523.000000</td>\n",
       "    </tr>\n",
       "    <tr>\n",
       "      <th>25%</th>\n",
       "      <td>1620.000000</td>\n",
       "      <td>2373.750000</td>\n",
       "      <td>1666.000000</td>\n",
       "      <td>10634.250000</td>\n",
       "      <td>9318.500000</td>\n",
       "      <td>9170.000000</td>\n",
       "    </tr>\n",
       "    <tr>\n",
       "      <th>50%</th>\n",
       "      <td>2576.000000</td>\n",
       "      <td>3352.000000</td>\n",
       "      <td>2642.000000</td>\n",
       "      <td>16106.000000</td>\n",
       "      <td>12469.000000</td>\n",
       "      <td>12121.000000</td>\n",
       "    </tr>\n",
       "    <tr>\n",
       "      <th>75%</th>\n",
       "      <td>5172.500000</td>\n",
       "      <td>5527.500000</td>\n",
       "      <td>4927.500000</td>\n",
       "      <td>23478.750000</td>\n",
       "      <td>19785.500000</td>\n",
       "      <td>19805.000000</td>\n",
       "    </tr>\n",
       "    <tr>\n",
       "      <th>max</th>\n",
       "      <td>16966.000000</td>\n",
       "      <td>13626.000000</td>\n",
       "      <td>21042.000000</td>\n",
       "      <td>39694.000000</td>\n",
       "      <td>67298.000000</td>\n",
       "      <td>92780.000000</td>\n",
       "    </tr>\n",
       "    <tr>\n",
       "      <th rowspan=\"8\" valign=\"top\">Frozen</th>\n",
       "      <th>count</th>\n",
       "      <td>59.000000</td>\n",
       "      <td>28.000000</td>\n",
       "      <td>211.000000</td>\n",
       "      <td>18.000000</td>\n",
       "      <td>19.000000</td>\n",
       "      <td>105.000000</td>\n",
       "    </tr>\n",
       "    <tr>\n",
       "      <th>mean</th>\n",
       "      <td>3127.322034</td>\n",
       "      <td>5745.035714</td>\n",
       "      <td>3656.900474</td>\n",
       "      <td>2584.111111</td>\n",
       "      <td>1540.578947</td>\n",
       "      <td>1513.200000</td>\n",
       "    </tr>\n",
       "    <tr>\n",
       "      <th>std</th>\n",
       "      <td>3276.460124</td>\n",
       "      <td>11454.478518</td>\n",
       "      <td>4956.590848</td>\n",
       "      <td>2424.774577</td>\n",
       "      <td>2473.266471</td>\n",
       "      <td>1504.498737</td>\n",
       "    </tr>\n",
       "    <tr>\n",
       "      <th>min</th>\n",
       "      <td>91.000000</td>\n",
       "      <td>264.000000</td>\n",
       "      <td>25.000000</td>\n",
       "      <td>61.000000</td>\n",
       "      <td>131.000000</td>\n",
       "      <td>33.000000</td>\n",
       "    </tr>\n",
       "    <tr>\n",
       "      <th>25%</th>\n",
       "      <td>966.000000</td>\n",
       "      <td>962.250000</td>\n",
       "      <td>779.000000</td>\n",
       "      <td>923.500000</td>\n",
       "      <td>639.500000</td>\n",
       "      <td>437.000000</td>\n",
       "    </tr>\n",
       "    <tr>\n",
       "      <th>50%</th>\n",
       "      <td>1859.000000</td>\n",
       "      <td>2696.500000</td>\n",
       "      <td>1960.000000</td>\n",
       "      <td>1522.000000</td>\n",
       "      <td>934.000000</td>\n",
       "      <td>1059.000000</td>\n",
       "    </tr>\n",
       "    <tr>\n",
       "      <th>75%</th>\n",
       "      <td>4479.000000</td>\n",
       "      <td>4617.000000</td>\n",
       "      <td>4542.500000</td>\n",
       "      <td>3843.000000</td>\n",
       "      <td>1410.000000</td>\n",
       "      <td>2194.000000</td>\n",
       "    </tr>\n",
       "    <tr>\n",
       "      <th>max</th>\n",
       "      <td>18711.000000</td>\n",
       "      <td>60869.000000</td>\n",
       "      <td>36534.000000</td>\n",
       "      <td>8321.000000</td>\n",
       "      <td>11559.000000</td>\n",
       "      <td>8132.000000</td>\n",
       "    </tr>\n",
       "    <tr>\n",
       "      <th rowspan=\"8\" valign=\"top\">Detergents_Paper</th>\n",
       "      <th>count</th>\n",
       "      <td>59.000000</td>\n",
       "      <td>28.000000</td>\n",
       "      <td>211.000000</td>\n",
       "      <td>18.000000</td>\n",
       "      <td>19.000000</td>\n",
       "      <td>105.000000</td>\n",
       "    </tr>\n",
       "    <tr>\n",
       "      <th>mean</th>\n",
       "      <td>950.525424</td>\n",
       "      <td>482.714286</td>\n",
       "      <td>786.682464</td>\n",
       "      <td>8225.277778</td>\n",
       "      <td>8410.263158</td>\n",
       "      <td>6899.238095</td>\n",
       "    </tr>\n",
       "    <tr>\n",
       "      <th>std</th>\n",
       "      <td>1305.907616</td>\n",
       "      <td>425.310506</td>\n",
       "      <td>1099.970640</td>\n",
       "      <td>5515.878798</td>\n",
       "      <td>8286.748255</td>\n",
       "      <td>6022.091110</td>\n",
       "    </tr>\n",
       "    <tr>\n",
       "      <th>min</th>\n",
       "      <td>5.000000</td>\n",
       "      <td>15.000000</td>\n",
       "      <td>3.000000</td>\n",
       "      <td>788.000000</td>\n",
       "      <td>332.000000</td>\n",
       "      <td>523.000000</td>\n",
       "    </tr>\n",
       "    <tr>\n",
       "      <th>25%</th>\n",
       "      <td>237.000000</td>\n",
       "      <td>182.750000</td>\n",
       "      <td>176.500000</td>\n",
       "      <td>4818.250000</td>\n",
       "      <td>3900.000000</td>\n",
       "      <td>3537.000000</td>\n",
       "    </tr>\n",
       "    <tr>\n",
       "      <th>50%</th>\n",
       "      <td>412.000000</td>\n",
       "      <td>325.000000</td>\n",
       "      <td>375.000000</td>\n",
       "      <td>6177.000000</td>\n",
       "      <td>6236.000000</td>\n",
       "      <td>5121.000000</td>\n",
       "    </tr>\n",
       "    <tr>\n",
       "      <th>75%</th>\n",
       "      <td>874.000000</td>\n",
       "      <td>707.000000</td>\n",
       "      <td>948.500000</td>\n",
       "      <td>11804.750000</td>\n",
       "      <td>9837.500000</td>\n",
       "      <td>7677.000000</td>\n",
       "    </tr>\n",
       "    <tr>\n",
       "      <th>max</th>\n",
       "      <td>5828.000000</td>\n",
       "      <td>1679.000000</td>\n",
       "      <td>6907.000000</td>\n",
       "      <td>19410.000000</td>\n",
       "      <td>38102.000000</td>\n",
       "      <td>40827.000000</td>\n",
       "    </tr>\n",
       "    <tr>\n",
       "      <th rowspan=\"8\" valign=\"top\">Delicassen</th>\n",
       "      <th>count</th>\n",
       "      <td>59.000000</td>\n",
       "      <td>28.000000</td>\n",
       "      <td>211.000000</td>\n",
       "      <td>18.000000</td>\n",
       "      <td>19.000000</td>\n",
       "      <td>105.000000</td>\n",
       "    </tr>\n",
       "    <tr>\n",
       "      <th>mean</th>\n",
       "      <td>1197.152542</td>\n",
       "      <td>1105.892857</td>\n",
       "      <td>1518.284360</td>\n",
       "      <td>1871.944444</td>\n",
       "      <td>1239.000000</td>\n",
       "      <td>1826.209524</td>\n",
       "    </tr>\n",
       "    <tr>\n",
       "      <th>std</th>\n",
       "      <td>1219.945304</td>\n",
       "      <td>1056.778800</td>\n",
       "      <td>3663.183304</td>\n",
       "      <td>1626.486667</td>\n",
       "      <td>1065.438042</td>\n",
       "      <td>2119.052222</td>\n",
       "    </tr>\n",
       "    <tr>\n",
       "      <th>min</th>\n",
       "      <td>7.000000</td>\n",
       "      <td>51.000000</td>\n",
       "      <td>3.000000</td>\n",
       "      <td>120.000000</td>\n",
       "      <td>59.000000</td>\n",
       "      <td>3.000000</td>\n",
       "    </tr>\n",
       "    <tr>\n",
       "      <th>25%</th>\n",
       "      <td>374.000000</td>\n",
       "      <td>567.250000</td>\n",
       "      <td>378.500000</td>\n",
       "      <td>746.000000</td>\n",
       "      <td>392.500000</td>\n",
       "      <td>545.000000</td>\n",
       "    </tr>\n",
       "    <tr>\n",
       "      <th>50%</th>\n",
       "      <td>749.000000</td>\n",
       "      <td>883.000000</td>\n",
       "      <td>823.000000</td>\n",
       "      <td>1414.000000</td>\n",
       "      <td>1037.000000</td>\n",
       "      <td>1386.000000</td>\n",
       "    </tr>\n",
       "    <tr>\n",
       "      <th>75%</th>\n",
       "      <td>1621.500000</td>\n",
       "      <td>1146.000000</td>\n",
       "      <td>1582.000000</td>\n",
       "      <td>2456.500000</td>\n",
       "      <td>1815.000000</td>\n",
       "      <td>2158.000000</td>\n",
       "    </tr>\n",
       "    <tr>\n",
       "      <th>max</th>\n",
       "      <td>6854.000000</td>\n",
       "      <td>5609.000000</td>\n",
       "      <td>47943.000000</td>\n",
       "      <td>6372.000000</td>\n",
       "      <td>3508.000000</td>\n",
       "      <td>16523.000000</td>\n",
       "    </tr>\n",
       "    <tr>\n",
       "      <th rowspan=\"8\" valign=\"top\">Total</th>\n",
       "      <th>count</th>\n",
       "      <td>59.000000</td>\n",
       "      <td>28.000000</td>\n",
       "      <td>211.000000</td>\n",
       "      <td>18.000000</td>\n",
       "      <td>19.000000</td>\n",
       "      <td>105.000000</td>\n",
       "    </tr>\n",
       "    <tr>\n",
       "      <th>mean</th>\n",
       "      <td>23925.915254</td>\n",
       "      <td>24095.321429</td>\n",
       "      <td>24908.668246</td>\n",
       "      <td>37040.055556</td>\n",
       "      <td>34347.473684</td>\n",
       "      <td>38279.523810</td>\n",
       "    </tr>\n",
       "    <tr>\n",
       "      <th>std</th>\n",
       "      <td>15706.272415</td>\n",
       "      <td>21543.554303</td>\n",
       "      <td>21220.053902</td>\n",
       "      <td>18383.053140</td>\n",
       "      <td>16079.881285</td>\n",
       "      <td>25687.230100</td>\n",
       "    </tr>\n",
       "    <tr>\n",
       "      <th>min</th>\n",
       "      <td>3953.000000</td>\n",
       "      <td>3519.000000</td>\n",
       "      <td>889.000000</td>\n",
       "      <td>16194.000000</td>\n",
       "      <td>15136.000000</td>\n",
       "      <td>10902.000000</td>\n",
       "    </tr>\n",
       "    <tr>\n",
       "      <th>25%</th>\n",
       "      <td>13629.000000</td>\n",
       "      <td>15577.250000</td>\n",
       "      <td>12155.500000</td>\n",
       "      <td>23524.500000</td>\n",
       "      <td>22525.000000</td>\n",
       "      <td>24131.000000</td>\n",
       "    </tr>\n",
       "    <tr>\n",
       "      <th>50%</th>\n",
       "      <td>20245.000000</td>\n",
       "      <td>20867.000000</td>\n",
       "      <td>18609.000000</td>\n",
       "      <td>35324.000000</td>\n",
       "      <td>29875.000000</td>\n",
       "      <td>30124.000000</td>\n",
       "    </tr>\n",
       "    <tr>\n",
       "      <th>75%</th>\n",
       "      <td>27522.500000</td>\n",
       "      <td>26878.750000</td>\n",
       "      <td>31199.500000</td>\n",
       "      <td>42750.500000</td>\n",
       "      <td>41776.000000</td>\n",
       "      <td>42076.000000</td>\n",
       "    </tr>\n",
       "    <tr>\n",
       "      <th>max</th>\n",
       "      <td>69192.000000</td>\n",
       "      <td>123996.000000</td>\n",
       "      <td>176671.000000</td>\n",
       "      <td>84875.000000</td>\n",
       "      <td>80974.000000</td>\n",
       "      <td>162078.000000</td>\n",
       "    </tr>\n",
       "  </tbody>\n",
       "</table>\n",
       "</div>"
      ],
      "text/plain": [
       "Channel                            1                                \\\n",
       "Region                             1              2              3   \n",
       "Fresh            count     59.000000      28.000000     211.000000   \n",
       "                 mean   12902.254237   11650.535714   13878.052133   \n",
       "                 std    12342.008901    8969.362752   14746.572913   \n",
       "                 min      514.000000       3.000000       3.000000   \n",
       "                 25%     4437.500000    4938.250000    3702.500000   \n",
       "                 50%     8656.000000    9787.000000    9612.000000   \n",
       "                 75%    18135.000000   17031.500000   18821.000000   \n",
       "                 max    56083.000000   32717.000000  112151.000000   \n",
       "Milk             count     59.000000      28.000000     211.000000   \n",
       "                 mean    3870.203390    2304.250000    3486.981043   \n",
       "                 std     4298.321195    2968.628697    4508.505269   \n",
       "                 min      258.000000     333.000000      55.000000   \n",
       "                 25%     1071.000000    1146.000000    1188.500000   \n",
       "                 50%     2280.000000    1560.500000    2247.000000   \n",
       "                 75%     4995.500000    2344.750000    4205.000000   \n",
       "                 max    23527.000000   16784.000000   43950.000000   \n",
       "Grocery          count     59.000000      28.000000     211.000000   \n",
       "                 mean    4026.135593    4395.500000    3886.734597   \n",
       "                 std     3629.644143    3048.298815    3593.506056   \n",
       "                 min      489.000000    1330.000000       3.000000   \n",
       "                 25%     1620.000000    2373.750000    1666.000000   \n",
       "                 50%     2576.000000    3352.000000    2642.000000   \n",
       "                 75%     5172.500000    5527.500000    4927.500000   \n",
       "                 max    16966.000000   13626.000000   21042.000000   \n",
       "Frozen           count     59.000000      28.000000     211.000000   \n",
       "                 mean    3127.322034    5745.035714    3656.900474   \n",
       "                 std     3276.460124   11454.478518    4956.590848   \n",
       "                 min       91.000000     264.000000      25.000000   \n",
       "                 25%      966.000000     962.250000     779.000000   \n",
       "                 50%     1859.000000    2696.500000    1960.000000   \n",
       "                 75%     4479.000000    4617.000000    4542.500000   \n",
       "                 max    18711.000000   60869.000000   36534.000000   \n",
       "Detergents_Paper count     59.000000      28.000000     211.000000   \n",
       "                 mean     950.525424     482.714286     786.682464   \n",
       "                 std     1305.907616     425.310506    1099.970640   \n",
       "                 min        5.000000      15.000000       3.000000   \n",
       "                 25%      237.000000     182.750000     176.500000   \n",
       "                 50%      412.000000     325.000000     375.000000   \n",
       "                 75%      874.000000     707.000000     948.500000   \n",
       "                 max     5828.000000    1679.000000    6907.000000   \n",
       "Delicassen       count     59.000000      28.000000     211.000000   \n",
       "                 mean    1197.152542    1105.892857    1518.284360   \n",
       "                 std     1219.945304    1056.778800    3663.183304   \n",
       "                 min        7.000000      51.000000       3.000000   \n",
       "                 25%      374.000000     567.250000     378.500000   \n",
       "                 50%      749.000000     883.000000     823.000000   \n",
       "                 75%     1621.500000    1146.000000    1582.000000   \n",
       "                 max     6854.000000    5609.000000   47943.000000   \n",
       "Total            count     59.000000      28.000000     211.000000   \n",
       "                 mean   23925.915254   24095.321429   24908.668246   \n",
       "                 std    15706.272415   21543.554303   21220.053902   \n",
       "                 min     3953.000000    3519.000000     889.000000   \n",
       "                 25%    13629.000000   15577.250000   12155.500000   \n",
       "                 50%    20245.000000   20867.000000   18609.000000   \n",
       "                 75%    27522.500000   26878.750000   31199.500000   \n",
       "                 max    69192.000000  123996.000000  176671.000000   \n",
       "\n",
       "Channel                            2                               \n",
       "Region                             1             2              3  \n",
       "Fresh            count     18.000000     19.000000     105.000000  \n",
       "                 mean    5200.000000   7289.789474    9831.504762  \n",
       "                 std     5415.521495   6867.934548    9635.394129  \n",
       "                 min       18.000000    161.000000      23.000000  \n",
       "                 25%     2378.250000   2368.000000    2343.000000  \n",
       "                 50%     2926.000000   6468.000000    7362.000000  \n",
       "                 75%     5988.000000   9162.000000   15076.000000  \n",
       "                 max    20782.000000  27082.000000   44466.000000  \n",
       "Milk             count     18.000000     19.000000     105.000000  \n",
       "                 mean   10784.000000   9190.789474   10981.009524  \n",
       "                 std     6609.221463   6611.354136   10574.827178  \n",
       "                 min     2527.000000    928.000000    1124.000000  \n",
       "                 25%     6253.250000   4148.500000    6128.000000  \n",
       "                 50%     8866.000000   6817.000000    7845.000000  \n",
       "                 75%    13112.250000  13127.500000   11114.000000  \n",
       "                 max    28326.000000  25071.000000   73498.000000  \n",
       "Grocery          count     18.000000     19.000000     105.000000  \n",
       "                 mean   18471.944444  16326.315789   15953.809524  \n",
       "                 std    10414.687844  14035.453775   12298.935356  \n",
       "                 min     5265.000000   2743.000000    4523.000000  \n",
       "                 25%    10634.250000   9318.500000    9170.000000  \n",
       "                 50%    16106.000000  12469.000000   12121.000000  \n",
       "                 75%    23478.750000  19785.500000   19805.000000  \n",
       "                 max    39694.000000  67298.000000   92780.000000  \n",
       "Frozen           count     18.000000     19.000000     105.000000  \n",
       "                 mean    2584.111111   1540.578947    1513.200000  \n",
       "                 std     2424.774577   2473.266471    1504.498737  \n",
       "                 min       61.000000    131.000000      33.000000  \n",
       "                 25%      923.500000    639.500000     437.000000  \n",
       "                 50%     1522.000000    934.000000    1059.000000  \n",
       "                 75%     3843.000000   1410.000000    2194.000000  \n",
       "                 max     8321.000000  11559.000000    8132.000000  \n",
       "Detergents_Paper count     18.000000     19.000000     105.000000  \n",
       "                 mean    8225.277778   8410.263158    6899.238095  \n",
       "                 std     5515.878798   8286.748255    6022.091110  \n",
       "                 min      788.000000    332.000000     523.000000  \n",
       "                 25%     4818.250000   3900.000000    3537.000000  \n",
       "                 50%     6177.000000   6236.000000    5121.000000  \n",
       "                 75%    11804.750000   9837.500000    7677.000000  \n",
       "                 max    19410.000000  38102.000000   40827.000000  \n",
       "Delicassen       count     18.000000     19.000000     105.000000  \n",
       "                 mean    1871.944444   1239.000000    1826.209524  \n",
       "                 std     1626.486667   1065.438042    2119.052222  \n",
       "                 min      120.000000     59.000000       3.000000  \n",
       "                 25%      746.000000    392.500000     545.000000  \n",
       "                 50%     1414.000000   1037.000000    1386.000000  \n",
       "                 75%     2456.500000   1815.000000    2158.000000  \n",
       "                 max     6372.000000   3508.000000   16523.000000  \n",
       "Total            count     18.000000     19.000000     105.000000  \n",
       "                 mean   37040.055556  34347.473684   38279.523810  \n",
       "                 std    18383.053140  16079.881285   25687.230100  \n",
       "                 min    16194.000000  15136.000000   10902.000000  \n",
       "                 25%    23524.500000  22525.000000   24131.000000  \n",
       "                 50%    35324.000000  29875.000000   30124.000000  \n",
       "                 75%    42750.500000  41776.000000   42076.000000  \n",
       "                 max    84875.000000  80974.000000  162078.000000  "
      ]
     },
     "execution_count": 24,
     "metadata": {},
     "output_type": "execute_result"
    }
   ],
   "source": [
    "df2=df.groupby(['Channel','Region'])\n",
    "df2.describe().T"
   ]
  },
  {
   "cell_type": "code",
   "execution_count": 25,
   "id": "574fabfe",
   "metadata": {},
   "outputs": [
    {
     "data": {
      "text/plain": [
       "<seaborn.axisgrid.FacetGrid at 0x1eb8da95280>"
      ]
     },
     "execution_count": 25,
     "metadata": {},
     "output_type": "execute_result"
    },
    {
     "data": {
      "image/png": "[encoded data removed]",
      "text/plain": [
       "<Figure size 409.125x360 with 1 Axes>"
      ]
     },
     "metadata": {
      "needs_background": "light"
     },
     "output_type": "display_data"
    }
   ],
   "source": [
    "sns.catplot(x='Region',y='Fresh',hue='Channel',data=df)"
   ]
  },
  {
   "cell_type": "code",
   "execution_count": 26,
   "id": "b2c06a77",
   "metadata": {},
   "outputs": [
    {
     "data": {
      "text/plain": [
       "<seaborn.axisgrid.FacetGrid at 0x1eb8db54e50>"
      ]
     },
     "execution_count": 26,
     "metadata": {},
     "output_type": "execute_result"
    },
    {
     "data": {
      "image/png": "[encoded data removed]",
      "text/plain": [
       "<Figure size 1080x360 with 3 Axes>"
      ]
     },
     "metadata": {
      "needs_background": "light"
     },
     "output_type": "display_data"
    }
   ],
   "source": [
    "sns.catplot(x='Channel',y='Fresh',hue='Channel',col='Region',data=df,kind='bar')"
   ]
  },
  {
   "cell_type": "code",
   "execution_count": 27,
   "id": "4fdebf93",
   "metadata": {},
   "outputs": [
    {
     "data": {
      "text/plain": [
       "<seaborn.axisgrid.FacetGrid at 0x1eb8de3c6a0>"
      ]
     },
     "execution_count": 27,
     "metadata": {},
     "output_type": "execute_result"
    },
    {
     "data": {
      "image/png": "[encoded data removed]",
      "text/plain": [
       "<Figure size 1080x360 with 3 Axes>"
      ]
     },
     "metadata": {
      "needs_background": "light"
     },
     "output_type": "display_data"
    }
   ],
   "source": [
    "sns.catplot(x='Channel',y='Frozen',hue='Channel',col='Region',data=df,kind='bar')"
   ]
  },
  {
   "cell_type": "code",
   "execution_count": 28,
   "id": "98fcb216",
   "metadata": {},
   "outputs": [
    {
     "data": {
      "text/plain": [
       "<seaborn.axisgrid.FacetGrid at 0x1eb8db4c5b0>"
      ]
     },
     "execution_count": 28,
     "metadata": {},
     "output_type": "execute_result"
    },
    {
     "data": {
      "image/png": "[encoded data removed]",
      "text/plain": [
       "<Figure size 1080x360 with 3 Axes>"
      ]
     },
     "metadata": {
      "needs_background": "light"
     },
     "output_type": "display_data"
    }
   ],
   "source": [
    "sns.catplot(x='Channel',y='Milk',hue='Channel',col='Region',data=df,kind='bar')"
   ]
  },
  {
   "cell_type": "code",
   "execution_count": 29,
   "id": "f54e65db",
   "metadata": {},
   "outputs": [
    {
     "data": {
      "text/plain": [
       "<seaborn.axisgrid.FacetGrid at 0x1eb8e704fa0>"
      ]
     },
     "execution_count": 29,
     "metadata": {},
     "output_type": "execute_result"
    },
    {
     "data": {
      "image/png": "[encoded data removed]",
      "text/plain": [
       "<Figure size 1080x360 with 3 Axes>"
      ]
     },
     "metadata": {
      "needs_background": "light"
     },
     "output_type": "display_data"
    }
   ],
   "source": [
    "sns.catplot(x='Channel',y='Grocery',hue='Channel',col='Region',data=df,kind='bar')"
   ]
  },
  {
   "cell_type": "code",
   "execution_count": 30,
   "id": "5a357dfd",
   "metadata": {},
   "outputs": [
    {
     "data": {
      "text/plain": [
       "<seaborn.axisgrid.FacetGrid at 0x1eb8de2cfa0>"
      ]
     },
     "execution_count": 30,
     "metadata": {},
     "output_type": "execute_result"
    },
    {
     "data": {
      "image/png": "[encoded data removed]",
      "text/plain": [
       "<Figure size 1080x360 with 3 Axes>"
      ]
     },
     "metadata": {
      "needs_background": "light"
     },
     "output_type": "display_data"
    }
   ],
   "source": [
    "sns.catplot(x='Channel',y='Detergents_Paper',hue='Channel',col='Region',data=df,kind='bar')"
   ]
  },
  {
   "cell_type": "code",
   "execution_count": 39,
   "id": "51a6c166",
   "metadata": {},
   "outputs": [
    {
     "name": "stdout",
     "output_type": "stream",
     "text": [
      "The coefficient of variation for Fresh is:\n",
      "1.054\n",
      "The coefficient of variation for Milk is:\n",
      "1.273\n",
      "The coefficient of variation for Grocery is:\n",
      "1.195\n",
      "The coefficient of variation for Frozen is:\n",
      "1.58\n",
      "The coefficient of variation for Detergents_Paper is:\n",
      "1.655\n",
      "The coefficient of variation for Delicassen is:\n",
      "1.849\n"
     ]
    }
   ],
   "source": [
    "items=['Fresh','Milk','Grocery','Frozen','Detergents_Paper','Delicassen']\n",
    "cv_list=[]\n",
    "for i in items:\n",
    "    print('The coefficient of variation for {} is:'.format(i))\n",
    "    m=df[i].mean()\n",
    "    s=df[i].std()\n",
    "    cv=round(s/m,3)\n",
    "    print(cv)\n",
    "    cv_list.append(cv)"
   ]
  },
  {
   "cell_type": "code",
   "execution_count": 40,
   "id": "06a9d2ec",
   "metadata": {},
   "outputs": [
    {
     "data": {
      "text/plain": [
       "[1.054, 1.273, 1.195, 1.58, 1.655, 1.849]"
      ]
     },
     "execution_count": 40,
     "metadata": {},
     "output_type": "execute_result"
    }
   ],
   "source": [
    "cv_list"
   ]
  },
  {
   "cell_type": "code",
   "execution_count": 44,
   "id": "ffec7028",
   "metadata": {},
   "outputs": [
    {
     "data": {
      "text/plain": [
       "<AxesSubplot:>"
      ]
     },
     "execution_count": 44,
     "metadata": {},
     "output_type": "execute_result"
    },
    {
     "data": {
      "image/png": "[encoded data removed]",
      "text/plain": [
       "<Figure size 720x360 with 1 Axes>"
      ]
     },
     "metadata": {
      "needs_background": "light"
     },
     "output_type": "display_data"
    }
   ],
   "source": [
    "plt.figure(figsize=(10,5))\n",
    "sns.barplot(x=items,y=cv_list,palette='rocket')"
   ]
  },
  {
   "cell_type": "code",
   "execution_count": 48,
   "id": "7603758d",
   "metadata": {},
   "outputs": [
    {
     "name": "stderr",
     "output_type": "stream",
     "text": [
      "C:\\Users\\deept\\anaconda3\\lib\\site-packages\\seaborn\\_decorators.py:36: FutureWarning: Pass the following variable as a keyword arg: x. From version 0.12, the only valid positional argument will be `data`, and passing other arguments without an explicit keyword will result in an error or misinterpretation.\n",
      "  warnings.warn(\n",
      "C:\\Users\\deept\\anaconda3\\lib\\site-packages\\seaborn\\_decorators.py:36: FutureWarning: Pass the following variable as a keyword arg: x. From version 0.12, the only valid positional argument will be `data`, and passing other arguments without an explicit keyword will result in an error or misinterpretation.\n",
      "  warnings.warn(\n",
      "C:\\Users\\deept\\anaconda3\\lib\\site-packages\\seaborn\\_decorators.py:36: FutureWarning: Pass the following variable as a keyword arg: x. From version 0.12, the only valid positional argument will be `data`, and passing other arguments without an explicit keyword will result in an error or misinterpretation.\n",
      "  warnings.warn(\n",
      "C:\\Users\\deept\\anaconda3\\lib\\site-packages\\seaborn\\_decorators.py:36: FutureWarning: Pass the following variable as a keyword arg: x. From version 0.12, the only valid positional argument will be `data`, and passing other arguments without an explicit keyword will result in an error or misinterpretation.\n",
      "  warnings.warn(\n",
      "C:\\Users\\deept\\anaconda3\\lib\\site-packages\\seaborn\\_decorators.py:36: FutureWarning: Pass the following variable as a keyword arg: x. From version 0.12, the only valid positional argument will be `data`, and passing other arguments without an explicit keyword will result in an error or misinterpretation.\n",
      "  warnings.warn(\n",
      "C:\\Users\\deept\\anaconda3\\lib\\site-packages\\seaborn\\_decorators.py:36: FutureWarning: Pass the following variable as a keyword arg: x. From version 0.12, the only valid positional argument will be `data`, and passing other arguments without an explicit keyword will result in an error or misinterpretation.\n",
      "  warnings.warn(\n"
     ]
    },
    {
     "data": {
      "text/plain": [
       "<AxesSubplot:xlabel='Delicassen'>"
      ]
     },
     "execution_count": 48,
     "metadata": {},
     "output_type": "execute_result"
    },
    {
     "data": {
      "image/png": "[encoded data removed]",
      "text/plain": [
       "<Figure size 720x360 with 6 Axes>"
      ]
     },
     "metadata": {
      "needs_background": "light"
     },
     "output_type": "display_data"
    }
   ],
   "source": [
    "plt.figure(figsize=(10,5))\n",
    "plt.subplot(2,3,1)\n",
    "sns.boxplot(df['Fresh'])\n",
    "\n",
    "plt.subplot(2,3,2)\n",
    "sns.boxplot(df['Milk'])\n",
    "\n",
    "plt.subplot(2,3,3)\n",
    "sns.boxplot(df['Grocery'])\n",
    "\n",
    "plt.subplot(2,3,4)\n",
    "sns.boxplot(df['Frozen'])\n",
    "\n",
    "plt.subplot(2,3,5)\n",
    "sns.boxplot(df['Detergents_Paper'])\n",
    "\n",
    "plt.subplot(2,3,6)\n",
    "sns.boxplot(df['Delicassen'])"
   ]
  },
  {
   "cell_type": "code",
   "execution_count": null,
   "id": "9bc3a213",
   "metadata": {},
   "outputs": [],
   "source": [
    "#normalizing the data"
   ]
  },
  {
   "cell_type": "code",
   "execution_count": 49,
   "id": "bf4bd1a0",
   "metadata": {},
   "outputs": [
    {
     "data": {
      "text/plain": [
       "array([[5.71217156e-05, 8.56825734e-05, 3.61837507e-01, ...,\n",
       "        7.63717338e-02, 3.82144277e-02, 8.59681820e-01],\n",
       "       [6.17284696e-05, 9.25927044e-05, 2.17808905e-01, ...,\n",
       "        1.01635925e-01, 5.48148810e-02, 8.70278829e-01],\n",
       "       [6.68816855e-05, 1.00322528e-04, 2.12449674e-01, ...,\n",
       "        1.17578003e-01, 2.62309970e-01, 8.44381279e-01],\n",
       "       ...,\n",
       "       [2.75398305e-05, 4.13097457e-05, 2.00090638e-01, ...,\n",
       "        2.04359312e-01, 2.57084317e-02, 8.35820085e-01],\n",
       "       [5.25636055e-05, 1.57690817e-04, 5.40879501e-01, ...,\n",
       "        8.83068573e-03, 1.11697662e-01, 8.16890993e-01],\n",
       "       [1.22143249e-04, 3.66429748e-04, 3.40413236e-01, ...,\n",
       "        5.82623299e-02, 6.35144896e-03, 8.62331340e-01]])"
      ]
     },
     "execution_count": 49,
     "metadata": {},
     "output_type": "execute_result"
    }
   ],
   "source": [
    "from sklearn.preprocessing import normalize\n",
    "scaled_df=normalize(df)\n",
    "scaled_df"
   ]
  },
  {
   "cell_type": "code",
   "execution_count": 50,
   "id": "044dce64",
   "metadata": {},
   "outputs": [],
   "source": [
    "data=pd.DataFrame(scaled_df,columns=df.columns)"
   ]
  },
  {
   "cell_type": "code",
   "execution_count": 51,
   "id": "e0bd4736",
   "metadata": {
    "scrolled": true
   },
   "outputs": [
    {
     "data": {
      "text/html": [
       "<div>\n",
       "<style scoped>\n",
       "    .dataframe tbody tr th:only-of-type {\n",
       "        vertical-align: middle;\n",
       "    }\n",
       "\n",
       "    .dataframe tbody tr th {\n",
       "        vertical-align: top;\n",
       "    }\n",
       "\n",
       "    .dataframe thead th {\n",
       "        text-align: right;\n",
       "    }\n",
       "</style>\n",
       "<table border=\"1\" class=\"dataframe\">\n",
       "  <thead>\n",
       "    <tr style=\"text-align: right;\">\n",
       "      <th></th>\n",
       "      <th>Channel</th>\n",
       "      <th>Region</th>\n",
       "      <th>Fresh</th>\n",
       "      <th>Milk</th>\n",
       "      <th>Grocery</th>\n",
       "      <th>Frozen</th>\n",
       "      <th>Detergents_Paper</th>\n",
       "      <th>Delicassen</th>\n",
       "      <th>Total</th>\n",
       "    </tr>\n",
       "  </thead>\n",
       "  <tbody>\n",
       "    <tr>\n",
       "      <th>0</th>\n",
       "      <td>0.000057</td>\n",
       "      <td>0.000086</td>\n",
       "      <td>0.361838</td>\n",
       "      <td>0.275784</td>\n",
       "      <td>0.215949</td>\n",
       "      <td>0.006112</td>\n",
       "      <td>0.076372</td>\n",
       "      <td>0.038214</td>\n",
       "      <td>0.859682</td>\n",
       "    </tr>\n",
       "    <tr>\n",
       "      <th>1</th>\n",
       "      <td>0.000062</td>\n",
       "      <td>0.000093</td>\n",
       "      <td>0.217809</td>\n",
       "      <td>0.302778</td>\n",
       "      <td>0.295309</td>\n",
       "      <td>0.054383</td>\n",
       "      <td>0.101636</td>\n",
       "      <td>0.054815</td>\n",
       "      <td>0.870279</td>\n",
       "    </tr>\n",
       "    <tr>\n",
       "      <th>2</th>\n",
       "      <td>0.000067</td>\n",
       "      <td>0.000100</td>\n",
       "      <td>0.212450</td>\n",
       "      <td>0.294547</td>\n",
       "      <td>0.256959</td>\n",
       "      <td>0.080425</td>\n",
       "      <td>0.117578</td>\n",
       "      <td>0.262310</td>\n",
       "      <td>0.844381</td>\n",
       "    </tr>\n",
       "    <tr>\n",
       "      <th>3</th>\n",
       "      <td>0.000034</td>\n",
       "      <td>0.000102</td>\n",
       "      <td>0.449989</td>\n",
       "      <td>0.040572</td>\n",
       "      <td>0.143189</td>\n",
       "      <td>0.217243</td>\n",
       "      <td>0.017199</td>\n",
       "      <td>0.060654</td>\n",
       "      <td>0.850994</td>\n",
       "    </tr>\n",
       "    <tr>\n",
       "      <th>4</th>\n",
       "      <td>0.000043</td>\n",
       "      <td>0.000064</td>\n",
       "      <td>0.485512</td>\n",
       "      <td>0.116145</td>\n",
       "      <td>0.154531</td>\n",
       "      <td>0.084049</td>\n",
       "      <td>0.038150</td>\n",
       "      <td>0.111315</td>\n",
       "      <td>0.840237</td>\n",
       "    </tr>\n",
       "    <tr>\n",
       "      <th>...</th>\n",
       "      <td>...</td>\n",
       "      <td>...</td>\n",
       "      <td>...</td>\n",
       "      <td>...</td>\n",
       "      <td>...</td>\n",
       "      <td>...</td>\n",
       "      <td>...</td>\n",
       "      <td>...</td>\n",
       "      <td>...</td>\n",
       "    </tr>\n",
       "    <tr>\n",
       "      <th>435</th>\n",
       "      <td>0.000012</td>\n",
       "      <td>0.000037</td>\n",
       "      <td>0.368680</td>\n",
       "      <td>0.149579</td>\n",
       "      <td>0.198930</td>\n",
       "      <td>0.163034</td>\n",
       "      <td>0.002259</td>\n",
       "      <td>0.027357</td>\n",
       "      <td>0.880224</td>\n",
       "    </tr>\n",
       "    <tr>\n",
       "      <th>436</th>\n",
       "      <td>0.000016</td>\n",
       "      <td>0.000049</td>\n",
       "      <td>0.646904</td>\n",
       "      <td>0.023598</td>\n",
       "      <td>0.012599</td>\n",
       "      <td>0.074374</td>\n",
       "      <td>0.001534</td>\n",
       "      <td>0.038688</td>\n",
       "      <td>0.757475</td>\n",
       "    </tr>\n",
       "    <tr>\n",
       "      <th>437</th>\n",
       "      <td>0.000028</td>\n",
       "      <td>0.000041</td>\n",
       "      <td>0.200091</td>\n",
       "      <td>0.213268</td>\n",
       "      <td>0.416444</td>\n",
       "      <td>0.006017</td>\n",
       "      <td>0.204359</td>\n",
       "      <td>0.025708</td>\n",
       "      <td>0.835820</td>\n",
       "    </tr>\n",
       "    <tr>\n",
       "      <th>438</th>\n",
       "      <td>0.000053</td>\n",
       "      <td>0.000158</td>\n",
       "      <td>0.540880</td>\n",
       "      <td>0.104129</td>\n",
       "      <td>0.117322</td>\n",
       "      <td>0.054561</td>\n",
       "      <td>0.008831</td>\n",
       "      <td>0.111698</td>\n",
       "      <td>0.816891</td>\n",
       "    </tr>\n",
       "    <tr>\n",
       "      <th>439</th>\n",
       "      <td>0.000122</td>\n",
       "      <td>0.000366</td>\n",
       "      <td>0.340413</td>\n",
       "      <td>0.207399</td>\n",
       "      <td>0.306580</td>\n",
       "      <td>0.007939</td>\n",
       "      <td>0.058262</td>\n",
       "      <td>0.006351</td>\n",
       "      <td>0.862331</td>\n",
       "    </tr>\n",
       "  </tbody>\n",
       "</table>\n",
       "<p>440 rows × 9 columns</p>\n",
       "</div>"
      ],
      "text/plain": [
       "      Channel    Region     Fresh      Milk   Grocery    Frozen  \\\n",
       "0    0.000057  0.000086  0.361838  0.275784  0.215949  0.006112   \n",
       "1    0.000062  0.000093  0.217809  0.302778  0.295309  0.054383   \n",
       "2    0.000067  0.000100  0.212450  0.294547  0.256959  0.080425   \n",
       "3    0.000034  0.000102  0.449989  0.040572  0.143189  0.217243   \n",
       "4    0.000043  0.000064  0.485512  0.116145  0.154531  0.084049   \n",
       "..        ...       ...       ...       ...       ...       ...   \n",
       "435  0.000012  0.000037  0.368680  0.149579  0.198930  0.163034   \n",
       "436  0.000016  0.000049  0.646904  0.023598  0.012599  0.074374   \n",
       "437  0.000028  0.000041  0.200091  0.213268  0.416444  0.006017   \n",
       "438  0.000053  0.000158  0.540880  0.104129  0.117322  0.054561   \n",
       "439  0.000122  0.000366  0.340413  0.207399  0.306580  0.007939   \n",
       "\n",
       "     Detergents_Paper  Delicassen     Total  \n",
       "0            0.076372    0.038214  0.859682  \n",
       "1            0.101636    0.054815  0.870279  \n",
       "2            0.117578    0.262310  0.844381  \n",
       "3            0.017199    0.060654  0.850994  \n",
       "4            0.038150    0.111315  0.840237  \n",
       "..                ...         ...       ...  \n",
       "435          0.002259    0.027357  0.880224  \n",
       "436          0.001534    0.038688  0.757475  \n",
       "437          0.204359    0.025708  0.835820  \n",
       "438          0.008831    0.111698  0.816891  \n",
       "439          0.058262    0.006351  0.862331  \n",
       "\n",
       "[440 rows x 9 columns]"
      ]
     },
     "execution_count": 51,
     "metadata": {},
     "output_type": "execute_result"
    }
   ],
   "source": [
    "data"
   ]
  },
  {
   "cell_type": "code",
   "execution_count": 52,
   "id": "af7a8016",
   "metadata": {},
   "outputs": [
    {
     "name": "stderr",
     "output_type": "stream",
     "text": [
      "C:\\Users\\deept\\anaconda3\\lib\\site-packages\\seaborn\\_decorators.py:36: FutureWarning: Pass the following variable as a keyword arg: x. From version 0.12, the only valid positional argument will be `data`, and passing other arguments without an explicit keyword will result in an error or misinterpretation.\n",
      "  warnings.warn(\n"
     ]
    },
    {
     "data": {
      "text/plain": [
       "<AxesSubplot:xlabel='Fresh'>"
      ]
     },
     "execution_count": 52,
     "metadata": {},
     "output_type": "execute_result"
    },
    {
     "data": {
      "image/png": "[encoded data removed]",
      "text/plain": [
       "<Figure size 432x288 with 1 Axes>"
      ]
     },
     "metadata": {
      "needs_background": "light"
     },
     "output_type": "display_data"
    }
   ],
   "source": [
    "sns.boxplot(data['Fresh'])"
   ]
  },
  {
   "cell_type": "code",
   "execution_count": 9,
   "id": "b5092e06",
   "metadata": {},
   "outputs": [],
   "source": [
    "import scipy.cluster.hierarchy as shc"
   ]
  },
  {
   "cell_type": "code",
   "execution_count": 12,
   "id": "2ff7301b",
   "metadata": {},
   "outputs": [
    {
     "data": {
      "image/png": "[encoded data removed]",
      "text/plain": [
       "<Figure size 720x504 with 1 Axes>"
      ]
     },
     "metadata": {
      "needs_background": "light"
     },
     "output_type": "display_data"
    }
   ],
   "source": [
    "plt.figure(figsize=(10,7))\n",
    "plt.title('Dendrogram')\n",
    "dend=shc.dendrogram(shc.linkage(data,method='ward'))#method ward=variance,single=minimum,complete=maximum,aver age,while doing clustering \n",
    "#after clustering first group consider the variance/min/max/ave"
   ]
  },
  {
   "cell_type": "code",
   "execution_count": 14,
   "id": "9e755848",
   "metadata": {},
   "outputs": [
    {
     "data": {
      "text/plain": [
       "<matplotlib.lines.Line2D at 0x1e6043aafd0>"
      ]
     },
     "execution_count": 14,
     "metadata": {},
     "output_type": "execute_result"
    },
    {
     "data": {
      "image/png": "[encoded data removed]",
      "text/plain": [
       "<Figure size 720x504 with 1 Axes>"
      ]
     },
     "metadata": {
      "needs_background": "light"
     },
     "output_type": "display_data"
    }
   ],
   "source": [
    "plt.figure(figsize=(10,7))\n",
    "plt.title('Dendrogram')\n",
    "dend=shc.dendrogram(shc.linkage(data,method='ward'))\n",
    "plt.axhline(y=6,color='r',linestyle='--')# based on height of vertical line "
   ]
  },
  {
   "cell_type": "code",
   "execution_count": 15,
   "id": "61d84d54",
   "metadata": {},
   "outputs": [
    {
     "data": {
      "text/plain": [
       "array([1, 1, 1, 0, 0, 1, 0, 1, 1, 1, 1, 0, 0, 0, 0, 0, 1, 1, 0, 0, 0, 0,\n",
       "       0, 1, 0, 0, 0, 0, 1, 0, 0, 1, 0, 0, 1, 1, 0, 1, 1, 0, 0, 0, 1, 1,\n",
       "       1, 1, 1, 1, 1, 1, 0, 1, 0, 1, 0, 1, 1, 1, 0, 1, 0, 1, 1, 1, 0, 1,\n",
       "       1, 0, 1, 0, 0, 0, 0, 0, 1, 0, 0, 1, 0, 1, 0, 1, 1, 0, 0, 1, 1, 0,\n",
       "       0, 0, 0, 0, 1, 0, 1, 1, 1, 0, 0, 0, 1, 1, 1, 0, 0, 0, 1, 1, 1, 1,\n",
       "       0, 1, 0, 0, 0, 0, 0, 1, 0, 0, 0, 0, 0, 1, 0, 0, 0, 0, 1, 0, 0, 0,\n",
       "       0, 0, 0, 0, 1, 1, 0, 1, 0, 0, 0, 0, 0, 1, 0, 0, 0, 0, 0, 1, 0, 1,\n",
       "       0, 1, 1, 0, 1, 1, 1, 0, 0, 1, 1, 1, 1, 1, 0, 0, 1, 1, 1, 1, 1, 1,\n",
       "       0, 0, 0, 1, 0, 0, 1, 1, 1, 0, 0, 1, 1, 1, 0, 0, 0, 1, 0, 0, 0, 1,\n",
       "       0, 0, 1, 1, 0, 1, 1, 1, 0, 1, 1, 1, 0, 1, 0, 1, 1, 1, 1, 0, 1, 0,\n",
       "       0, 1, 0, 0, 0, 0, 0, 0, 1, 0, 0, 1, 0, 1, 0, 1, 0, 0, 0, 0, 0, 0,\n",
       "       0, 0, 1, 1, 0, 0, 0, 0, 0, 1, 0, 0, 1, 0, 0, 0, 0, 0, 0, 0, 0, 1,\n",
       "       1, 1, 1, 0, 1, 0, 0, 1, 1, 0, 1, 1, 0, 0, 0, 0, 1, 0, 0, 0, 0, 0,\n",
       "       0, 0, 0, 0, 1, 0, 1, 1, 0, 0, 0, 0, 1, 1, 0, 1, 1, 1, 1, 1, 1, 0,\n",
       "       0, 1, 0, 0, 1, 0, 0, 1, 0, 1, 0, 1, 1, 0, 0, 0, 0, 0, 0, 1, 0, 0,\n",
       "       0, 1, 0, 1, 0, 0, 0, 0, 0, 0, 1, 1, 1, 1, 0, 1, 1, 0, 1, 1, 0, 1,\n",
       "       1, 1, 0, 1, 0, 1, 1, 1, 0, 0, 1, 0, 0, 1, 0, 0, 0, 0, 0, 0, 1, 0,\n",
       "       0, 0, 1, 0, 1, 1, 0, 0, 0, 0, 1, 0, 1, 0, 0, 0, 0, 1, 1, 0, 0, 0,\n",
       "       1, 0, 0, 0, 0, 0, 0, 0, 0, 0, 0, 1, 0, 0, 0, 1, 1, 0, 0, 1, 1, 1,\n",
       "       1, 0, 1, 0, 0, 0, 0, 0, 1, 0, 1, 0, 1, 0, 0, 1, 0, 0, 0, 1, 0, 1],\n",
       "      dtype=int64)"
      ]
     },
     "execution_count": 15,
     "metadata": {},
     "output_type": "execute_result"
    }
   ],
   "source": [
    "from sklearn.cluster import AgglomerativeClustering\n",
    "model=AgglomerativeClustering(n_clusters=2,linkage='ward')\n",
    "clusters=model.fit_predict(data)\n",
    "clusters"
   ]
  },
  {
   "cell_type": "code",
   "execution_count": 17,
   "id": "1278cfe6",
   "metadata": {},
   "outputs": [
    {
     "data": {
      "text/plain": [
       "<matplotlib.collections.PathCollection at 0x1e605fbc7c0>"
      ]
     },
     "execution_count": 17,
     "metadata": {},
     "output_type": "execute_result"
    },
    {
     "data": {
      "image/png": "[encoded data removed]",
      "text/plain": [
       "<Figure size 720x576 with 1 Axes>"
      ]
     },
     "metadata": {
      "needs_background": "light"
     },
     "output_type": "display_data"
    }
   ],
   "source": [
    "plt.figure(figsize=(10,8))\n",
    "plt.scatter(data.Milk,data.Grocery,c=clusters)"
   ]
  },
  {
   "cell_type": "code",
   "execution_count": 18,
   "id": "27deef05",
   "metadata": {},
   "outputs": [
    {
     "data": {
      "text/plain": [
       "<matplotlib.collections.PathCollection at 0x1e6061de3d0>"
      ]
     },
     "execution_count": 18,
     "metadata": {},
     "output_type": "execute_result"
    },
    {
     "data": {
      "image/png": "[encoded data removed]",
      "text/plain": [
       "<Figure size 432x288 with 1 Axes>"
      ]
     },
     "metadata": {
      "needs_background": "light"
     },
     "output_type": "display_data"
    }
   ],
   "source": [
    "plt.scatter(data.Region,data.Frozen,c=clusters)"
   ]
  },
  {
   "cell_type": "code",
   "execution_count": null,
   "id": "3478bbac",
   "metadata": {},
   "outputs": [],
   "source": []
  },
  {
   "cell_type": "code",
   "execution_count": null,
   "id": "f146210f",
   "metadata": {},
   "outputs": [],
   "source": []
  }
 ],
 "metadata": {
  "kernelspec": {
   "display_name": "Python 3 (ipykernel)",
   "language": "python",
   "name": "python3"
  },
  "language_info": {
   "codemirror_mode": {
    "name": "ipython",
    "version": 3
   },
   "file_extension": ".py",
   "mimetype": "text/x-python",
   "name": "python",
   "nbconvert_exporter": "python",
   "pygments_lexer": "ipython3",
   "version": "3.9.7"
  }
 },
 "nbformat": 4,
 "nbformat_minor": 5
}
